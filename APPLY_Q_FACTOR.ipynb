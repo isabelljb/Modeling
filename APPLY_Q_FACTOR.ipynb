{
 "cells": [
  {
   "cell_type": "code",
   "execution_count": 3,
   "metadata": {},
   "outputs": [],
   "source": [
    "import numpy as np\n",
    "import pandas as pd\n",
    "\n",
    "LL_FINAL = pd.read_csv(\"/Users/INPUT.csv\")\n",
    "AGG = LL_FINAL.groupby(['ACL_Reporting_Seg'], as_index=False).sum()\n",
    "ACL_Q_TEMPLATE = pd.read_excel(\"/Users/Q_FACTOR_INPUT.XLSX\")\n",
    "\n",
    "# Merge two Dataframes on the same columns\n",
    "LL_QFACTOR = LL_FINAL.merge(ACL_Q_TEMPLATE, how='left', on='ACL_Reporting_Seg')\n",
    "AGG['LOSSRATE_AGGR']= (AGG['agg_funded_losses']+AGG['agg_unfunded_losses'])/ AGG['UNPAID_BALANCE_AMT']\n",
    "AGG= AGG.drop(['agg_funded_losses', 'agg_unfunded_losses', 'UNPAID_BALANCE_AMT', 'UnusedCmmtCurrentAmount', 'agg_credit_losses'], axis=1)\n",
    "AGG\n",
    "\n",
    "LL_POSTQ = LL_QFACTOR.merge(AGG, how='left', on='ACL_Reporting_Seg')\n",
    "LL_POSTQ['Q_FACTOR_ADJ_FUNDED'] = LL_POSTQ['agg_funded_losses'] * (LL_POSTQ['LOSSRATE_AGGR'] + LL_POSTQ['Qfactor']/10000) / LL_POSTQ['LOSSRATE_AGGR']\n",
    "LL_POSTQ['Q_FACTOR_ADJ_UNFUNDED'] = LL_POSTQ['agg_unfunded_losses'] * (LL_POSTQ['LOSSRATE_AGGR'] + LL_POSTQ['Qfactor']/10000) / LL_POSTQ['LOSSRATE_AGGR']\n",
    "LL_POSTQ['Q_FACTOR_ADJ_AGG'] = LL_POSTQ['Q_FACTOR_ADJ_FUNDED'] + LL_POSTQ['Q_FACTOR_ADJ_UNFUNDED']\n",
    "LL_POSTQ['funded_qfactor'] = LL_POSTQ['Q_FACTOR_ADJ_FUNDED'] - LL_POSTQ['agg_funded_losses']\n",
    "LL_POSTQ['unfunded_qfactor'] = LL_POSTQ['Q_FACTOR_ADJ_UNFUNDED'] - LL_POSTQ['agg_unfunded_losses']\n",
    "LL_POSTQ= LL_POSTQ.drop(['INSTID', 'PD_SEGMENT_ID', 'MATURITY_DT', 'agg_credit_losses', 'agg_funded_losses', 'agg_unfunded_losses', 'Qfactor'], axis=1)\n",
    "\n",
    "AGG_POSTQ = LL_POSTQ.groupby(['ACL_Reporting_Seg'], as_index=False).sum()\n",
    "AGG_POSTQ = AGG_POSTQ.drop(['LOSSRATE_AGGR'], axis=1)\n",
    "\n",
    "LOSSRATE_AGGR = LL_POSTQ.groupby(['ACL_Reporting_Seg'], as_index=False)['LOSSRATE_AGGR'].min()\n",
    "\n",
    "SEG_ADJQ_SUMMARY = AGG_POSTQ.merge(LOSSRATE_AGGR, how='left', on='ACL_Reporting_Seg')\n",
    "SEG_ADJQ_SUMMARY['NET_FUNDED_LOSS_RT'] = (SEG_ADJQ_SUMMARY['Q_FACTOR_ADJ_FUNDED']+ SEG_ADJQ_SUMMARY['Q_FACTOR_ADJ_UNFUNDED']) /SEG_ADJQ_SUMMARY['UNPAID_BALANCE_AMT'] \n",
    "SEG_ADJQ_SUMMARY['QFACTOR_BPS'] = (SEG_ADJQ_SUMMARY['NET_FUNDED_LOSS_RT'] - SEG_ADJQ_SUMMARY['LOSSRATE_AGGR']) * 10000 \n",
    "\n",
    "SEG_ADJQ_SUMMARY.to_excel(r'/Users/OUTPUT.xlsx')"
   ]
  },
  {
   "cell_type": "code",
   "execution_count": null,
   "metadata": {},
   "outputs": [],
   "source": []
  }
 ],
 "metadata": {
  "kernelspec": {
   "display_name": "Python 3",
   "language": "python",
   "name": "python3"
  },
  "language_info": {
   "codemirror_mode": {
    "name": "ipython",
    "version": 3
   },
   "file_extension": ".py",
   "mimetype": "text/x-python",
   "name": "python",
   "nbconvert_exporter": "python",
   "pygments_lexer": "ipython3",
   "version": "3.7.3"
  }
 },
 "nbformat": 4,
 "nbformat_minor": 2
}
