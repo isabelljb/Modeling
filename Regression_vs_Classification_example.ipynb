{
 "cells": [
  {
   "cell_type": "code",
   "execution_count": null,
   "metadata": {},
   "outputs": [],
   "source": [
    "import numpy as np\n",
    "import pandas as pd\n",
    "from sklearn.linear_model import LinearRegression\n",
    "from sklearn.cross_validation import train_test_split\n",
    "from sklearn import metrics\n",
    "\n",
    "data_path = \"TBD\"\n",
    "data = pd.read_csv(data_path, index_col=0)\n",
    "array_items = ['TV', 'radio', 'newspaper'] #creating an array list of the items\n",
    "X = data[array_items] #choosing a subset of the dataset\n",
    "y = data.sales #sales\n",
    "X_train, X_test, y_train, y_test = train_test_split(X, y, random_state=1)\n",
    "linearreg = LinearRegression() #applying the linear regression model\n",
    "linearreg.fit(X_train, y_train) #fitting the model to the training data\n",
    "y_predict = linearreg.predict(X_test) #making predictions based on the testing unit\n",
    "print(np.sqrt(metrics.mean_squared_error(y_test, y_predict))) #calculating the RMSE number"
   ]
  },
  {
   "cell_type": "code",
   "execution_count": null,
   "metadata": {},
   "outputs": [],
   "source": [
    "from sklearn import tree\n",
    "# features = [[155, “rough”], [180, “rough”], [135, “smooth”], [110, “smooth”]] # Input to classifier\n",
    "features = [[155, 0], [180, 0], [135, 1], [110, 1]] # scikit-learn requires real-valued features\n",
    "# labels = [“orange”, “orange”, “apple”, “apple”] # output values\n",
    "labels = [1, 1, 0, 0]\n",
    "# Training classifier\n",
    "classifier = tree.DecisionTreeClassifier() # using decision tree classifier\n",
    "classifier = classifier.fit(features, labels) # Find patterns in data\n",
    "# Making predictions\n",
    "print (classifier.predict([[120, 1]]))\n",
    "# Output is 0 for apple"
   ]
  }
 ],
 "metadata": {
  "kernelspec": {
   "display_name": "Python 3",
   "language": "python",
   "name": "python3"
  },
  "language_info": {
   "codemirror_mode": {
    "name": "ipython",
    "version": 3
   },
   "file_extension": ".py",
   "mimetype": "text/x-python",
   "name": "python",
   "nbconvert_exporter": "python",
   "pygments_lexer": "ipython3",
   "version": "3.7.3"
  }
 },
 "nbformat": 4,
 "nbformat_minor": 2
}
