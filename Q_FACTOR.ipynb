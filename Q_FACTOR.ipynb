{
 "cells": [
  {
   "cell_type": "code",
   "execution_count": null,
   "metadata": {},
   "outputs": [],
   "source": [
    "import pandas as pd\n",
    "import numpy as np\n",
    "df = pd.read_excel(\"/Users/INPUT.xlsx\")\n",
    "df\n",
    "funded_losses = list(df.groupby(['ACL_Reporting_Seg'])['agg_funded_losses'].agg('sum'))\n",
    "unfunded_losses = list(df.groupby(['ACL_Reporting_Seg'])['agg_unfunded_losses'].agg('sum'))\n",
    "balance = list(df.groupby(['ACL_Reporting_Seg'])['UNPAID_BALANCE_AMT'].agg('sum'))"
   ]
  },
  {
   "cell_type": "code",
   "execution_count": null,
   "metadata": {},
   "outputs": [],
   "source": [
    "lossrate= pd.DataFrame(zip(list(set(df['ACL_Reporting_Seg'])),\n",
    "                           [(a+b)/c for a,b,c in zip(funded_losses,unfunded_losses,balance)]), \n",
    "                           columns=['ACL_Reporting_Seg', 'Loss_rate'])"
   ]
  },
  {
   "cell_type": "code",
   "execution_count": null,
   "metadata": {},
   "outputs": [],
   "source": [
    "QFactor = pd.read_excel(\"/Users/Q_FACTOR_INPUT.xlsx\")"
   ]
  },
  {
   "cell_type": "code",
   "execution_count": null,
   "metadata": {},
   "outputs": [],
   "source": [
    "join2 = pd.merge(join, QFactor, how='left', on=['ACL_Reporting_Seg'])\n",
    "join2['adj_funded_loss']= join2['agg_funded_losses']*(join2['Loss_rate']+ join2['Q_FACTOR_BPS']/10000)/join2['Loss_rate']\n",
    "join2['adj_unfunded_loss']= join2['agg_unfunded_losses']*(join2['Loss_rate']+ join2['Q_FACTOR_BPS']/10000)/join2['Loss_rate']\n",
    "join2"
   ]
  }
 ],
 "metadata": {
  "kernelspec": {
   "display_name": "Python 3",
   "language": "python",
   "name": "python3"
  },
  "language_info": {
   "codemirror_mode": {
    "name": "ipython",
    "version": 3
   },
   "file_extension": ".py",
   "mimetype": "text/x-python",
   "name": "python",
   "nbconvert_exporter": "python",
   "pygments_lexer": "ipython3",
   "version": "3.7.3"
  }
 },
 "nbformat": 4,
 "nbformat_minor": 2
}
