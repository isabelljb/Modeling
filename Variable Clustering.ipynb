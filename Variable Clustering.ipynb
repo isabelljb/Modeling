{
 "cells": [
  {
   "cell_type": "markdown",
   "metadata": {},
   "source": [
    "# Variable Clustering in Python"
   ]
  },
  {
   "cell_type": "markdown",
   "metadata": {},
   "source": [
    "### Import libraries "
   ]
  },
  {
   "cell_type": "code",
   "execution_count": 1,
   "metadata": {},
   "outputs": [],
   "source": [
    "import pandas as pd\n",
    "import numpy as np\n",
    "import seaborn as sns\n",
    "from datetime import datetime\n",
    "from sklearn.preprocessing import StandardScaler \n",
    "from sklearn import datasets, cluster"
   ]
  },
  {
   "cell_type": "markdown",
   "metadata": {},
   "source": [
    "### Import historical macroeconomic variable numbers "
   ]
  },
  {
   "cell_type": "code",
   "execution_count": 2,
   "metadata": {},
   "outputs": [],
   "source": [
    "macrovar = pd.read_excel('/Users/Desktop/macrovars.xlsx')"
   ]
  },
  {
   "cell_type": "markdown",
   "metadata": {},
   "source": [
    "### Create variable transformations: Lag 1 quarter and 2 quarters "
   ]
  },
  {
   "cell_type": "code",
   "execution_count": 3,
   "metadata": {},
   "outputs": [],
   "source": [
    "lag1= macrovar.drop('DATE', axis=1).shift(1)\n",
    "lag2= lag1.add_suffix('_L1')\n",
    "lag2= macrovar.drop('DATE', axis=1).shift(2)\n",
    "lag2= lag2.add_suffix('_L2')"
   ]
  },
  {
   "cell_type": "code",
   "execution_count": 4,
   "metadata": {},
   "outputs": [],
   "source": [
    "macrovar2 = pd.concat([macrovar, lag1, lag2], axis=1)"
   ]
  },
  {
   "cell_type": "markdown",
   "metadata": {},
   "source": [
    "###  Create variable transformations: Quarter over quarter percent change"
   ]
  },
  {
   "cell_type": "code",
   "execution_count": 5,
   "metadata": {},
   "outputs": [],
   "source": [
    "macrovar3= macrovar2.drop('DATE', axis=1).pct_change()\n",
    "macrovar3= macrovar3.add_suffix('_pct')"
   ]
  },
  {
   "cell_type": "markdown",
   "metadata": {},
   "source": [
    "### Drop NaN records to fit the models "
   ]
  },
  {
   "cell_type": "code",
   "execution_count": 6,
   "metadata": {},
   "outputs": [],
   "source": [
    "macrovar3.dropna(inplace=True)"
   ]
  },
  {
   "cell_type": "markdown",
   "metadata": {},
   "source": [
    "### Use seaborn heatmap to check for missing value distributions "
   ]
  },
  {
   "cell_type": "code",
   "execution_count": 7,
   "metadata": {},
   "outputs": [
    {
     "data": {
      "text/plain": [
       "<matplotlib.axes._subplots.AxesSubplot at 0x2bc1f4ea080>"
      ]
     },
     "execution_count": 7,
     "metadata": {},
     "output_type": "execute_result"
    },
    {
     "data": {
      "image/png": "[encoded data removed]",
      "text/plain": [
       "<Figure size 432x288 with 2 Axes>"
      ]
     },
     "metadata": {
      "needs_background": "light"
     },
     "output_type": "display_data"
    }
   ],
   "source": [
    "sns.heatmap(macrovar2.isnull())"
   ]
  },
  {
   "cell_type": "code",
   "execution_count": 8,
   "metadata": {},
   "outputs": [
    {
     "data": {
      "text/plain": [
       "<matplotlib.axes._subplots.AxesSubplot at 0x2bc215cf438>"
      ]
     },
     "execution_count": 8,
     "metadata": {},
     "output_type": "execute_result"
    },
    {
     "data": {
      "image/png": "[encoded data removed]",
      "text/plain": [
       "<Figure size 432x288 with 2 Axes>"
      ]
     },
     "metadata": {
      "needs_background": "light"
     },
     "output_type": "display_data"
    }
   ],
   "source": [
    "sns.heatmap(macrovar3.isnull())"
   ]
  },
  {
   "cell_type": "markdown",
   "metadata": {},
   "source": [
    "### Use Sklearn.preprocessing.StandardScaler to scale input data. Scaling the data before clustering analysis is important when using distance as the measurement. "
   ]
  },
  {
   "cell_type": "code",
   "execution_count": 9,
   "metadata": {},
   "outputs": [],
   "source": [
    "scaler = StandardScaler() \n",
    "macrovar4= scaler.fit_transform(macrovar3)"
   ]
  },
  {
   "cell_type": "markdown",
   "metadata": {},
   "source": [
    "## Method 1: FeatureAgglomeration from sklearn.cluster "
   ]
  },
  {
   "cell_type": "markdown",
   "metadata": {},
   "source": [
    "### Here we use 5 clusters and single linkage as an example for FeatureAgglomeration"
   ]
  },
  {
   "cell_type": "code",
   "execution_count": 10,
   "metadata": {},
   "outputs": [],
   "source": [
    "agglo = cluster.FeatureAgglomeration(n_clusters=5,  linkage='single')"
   ]
  },
  {
   "cell_type": "code",
   "execution_count": 11,
   "metadata": {},
   "outputs": [
    {
     "data": {
      "text/plain": [
       "FeatureAgglomeration(affinity='euclidean', compute_full_tree='auto',\n",
       "                     connectivity=None, distance_threshold=None,\n",
       "                     linkage='single', memory=None, n_clusters=5,\n",
       "                     pooling_func=<function mean at 0x000002BC19B970D0>)"
      ]
     },
     "execution_count": 11,
     "metadata": {},
     "output_type": "execute_result"
    }
   ],
   "source": [
    "agglo.fit(macrovar4)"
   ]
  },
  {
   "cell_type": "code",
   "execution_count": 12,
   "metadata": {},
   "outputs": [],
   "source": [
    "X_reduced = agglo.transform(macrovar4)"
   ]
  },
  {
   "cell_type": "markdown",
   "metadata": {},
   "source": [
    "### After applying FeatureAgglomeration, the output has 93 rows and changed from 15 columns to 5 columns. "
   ]
  },
  {
   "cell_type": "code",
   "execution_count": 13,
   "metadata": {},
   "outputs": [
    {
     "data": {
      "text/plain": [
       "(93, 15)"
      ]
     },
     "execution_count": 13,
     "metadata": {},
     "output_type": "execute_result"
    }
   ],
   "source": [
    "macrovar4.shape"
   ]
  },
  {
   "cell_type": "code",
   "execution_count": 14,
   "metadata": {},
   "outputs": [
    {
     "data": {
      "text/plain": [
       "(93, 5)"
      ]
     },
     "execution_count": 14,
     "metadata": {},
     "output_type": "execute_result"
    }
   ],
   "source": [
    "X_reduced.shape"
   ]
  },
  {
   "cell_type": "markdown",
   "metadata": {},
   "source": [
    "### We can use labels_ to identify the cluster assignment. "
   ]
  },
  {
   "cell_type": "code",
   "execution_count": 15,
   "metadata": {},
   "outputs": [
    {
     "data": {
      "text/plain": [
       "array([2, 2, 1, 0, 1, 3, 3, 0, 0, 0, 4, 4, 0, 0, 0], dtype=int64)"
      ]
     },
     "execution_count": 15,
     "metadata": {},
     "output_type": "execute_result"
    }
   ],
   "source": [
    "agglo.labels_"
   ]
  },
  {
   "cell_type": "code",
   "execution_count": 16,
   "metadata": {},
   "outputs": [
    {
     "name": "stdout",
     "output_type": "stream",
     "text": [
      "Features in agglomeration 0: [3, 7, 8, 9, 12, 13, 14]\n",
      "Features in agglomeration 1: [2, 4]\n",
      "Features in agglomeration 2: [0, 1]\n",
      "Features in agglomeration 3: [5, 6]\n",
      "Features in agglomeration 4: [10, 11]\n"
     ]
    }
   ],
   "source": [
    "for i, label in enumerate(set(agglo.labels_)):\n",
    "    features_with_label = [j for j, lab in enumerate(agglo.labels_) if lab == label]\n",
    "    print('Features in agglomeration {}: {}'.format(i, features_with_label))"
   ]
  },
  {
   "cell_type": "code",
   "execution_count": 17,
   "metadata": {},
   "outputs": [
    {
     "data": {
      "text/html": [
       "<div>\n",
       "<style scoped>\n",
       "    .dataframe tbody tr th:only-of-type {\n",
       "        vertical-align: middle;\n",
       "    }\n",
       "\n",
       "    .dataframe tbody tr th {\n",
       "        vertical-align: top;\n",
       "    }\n",
       "\n",
       "    .dataframe thead th {\n",
       "        text-align: right;\n",
       "    }\n",
       "</style>\n",
       "<table border=\"1\" class=\"dataframe\">\n",
       "  <thead>\n",
       "    <tr style=\"text-align: right;\">\n",
       "      <th></th>\n",
       "      <th>BOND_pct</th>\n",
       "      <th>BAA_pct</th>\n",
       "      <th>DJIA_pct</th>\n",
       "      <th>PI_pct</th>\n",
       "      <th>RGDP_pct</th>\n",
       "      <th>BOND_pct</th>\n",
       "      <th>BAA_pct</th>\n",
       "      <th>DJIA_pct</th>\n",
       "      <th>PI_pct</th>\n",
       "      <th>RGDP_pct</th>\n",
       "      <th>BOND_L2_pct</th>\n",
       "      <th>BAA_L2_pct</th>\n",
       "      <th>DJIA_L2_pct</th>\n",
       "      <th>PI_L2_pct</th>\n",
       "      <th>RGDP_L2_pct</th>\n",
       "    </tr>\n",
       "  </thead>\n",
       "  <tbody>\n",
       "    <tr>\n",
       "      <th>3</th>\n",
       "      <td>-0.054160</td>\n",
       "      <td>-0.026458</td>\n",
       "      <td>-0.105591</td>\n",
       "      <td>0.036044</td>\n",
       "      <td>0.006229</td>\n",
       "      <td>-0.047696</td>\n",
       "      <td>-0.046418</td>\n",
       "      <td>-0.000380</td>\n",
       "      <td>0.105947</td>\n",
       "      <td>0.001336</td>\n",
       "      <td>-0.043754</td>\n",
       "      <td>0.021136</td>\n",
       "      <td>-0.047403</td>\n",
       "      <td>-0.009908</td>\n",
       "      <td>0.018312</td>\n",
       "    </tr>\n",
       "    <tr>\n",
       "      <th>4</th>\n",
       "      <td>-0.094597</td>\n",
       "      <td>-0.078364</td>\n",
       "      <td>-0.125661</td>\n",
       "      <td>-0.006516</td>\n",
       "      <td>-0.002852</td>\n",
       "      <td>-0.054160</td>\n",
       "      <td>-0.026458</td>\n",
       "      <td>-0.105591</td>\n",
       "      <td>0.036044</td>\n",
       "      <td>0.006229</td>\n",
       "      <td>-0.047696</td>\n",
       "      <td>-0.046418</td>\n",
       "      <td>-0.000380</td>\n",
       "      <td>0.105947</td>\n",
       "      <td>0.001336</td>\n",
       "    </tr>\n",
       "    <tr>\n",
       "      <th>5</th>\n",
       "      <td>0.045995</td>\n",
       "      <td>0.022044</td>\n",
       "      <td>0.071511</td>\n",
       "      <td>-0.006502</td>\n",
       "      <td>0.005846</td>\n",
       "      <td>-0.094597</td>\n",
       "      <td>-0.078364</td>\n",
       "      <td>-0.125661</td>\n",
       "      <td>-0.006516</td>\n",
       "      <td>-0.002852</td>\n",
       "      <td>-0.054160</td>\n",
       "      <td>-0.026458</td>\n",
       "      <td>-0.105591</td>\n",
       "      <td>0.036044</td>\n",
       "      <td>0.006229</td>\n",
       "    </tr>\n",
       "    <tr>\n",
       "      <th>6</th>\n",
       "      <td>-0.053071</td>\n",
       "      <td>-0.035014</td>\n",
       "      <td>-0.161671</td>\n",
       "      <td>0.011427</td>\n",
       "      <td>-0.004150</td>\n",
       "      <td>0.045995</td>\n",
       "      <td>0.022044</td>\n",
       "      <td>0.071511</td>\n",
       "      <td>-0.006502</td>\n",
       "      <td>0.005846</td>\n",
       "      <td>-0.094597</td>\n",
       "      <td>-0.078364</td>\n",
       "      <td>-0.125661</td>\n",
       "      <td>-0.006516</td>\n",
       "      <td>-0.002852</td>\n",
       "    </tr>\n",
       "    <tr>\n",
       "      <th>7</th>\n",
       "      <td>-0.046837</td>\n",
       "      <td>-0.015239</td>\n",
       "      <td>0.119705</td>\n",
       "      <td>-0.033066</td>\n",
       "      <td>0.002724</td>\n",
       "      <td>-0.053071</td>\n",
       "      <td>-0.035014</td>\n",
       "      <td>-0.161671</td>\n",
       "      <td>0.011427</td>\n",
       "      <td>-0.004150</td>\n",
       "      <td>0.045995</td>\n",
       "      <td>0.022044</td>\n",
       "      <td>0.071511</td>\n",
       "      <td>-0.006502</td>\n",
       "      <td>0.005846</td>\n",
       "    </tr>\n",
       "  </tbody>\n",
       "</table>\n",
       "</div>"
      ],
      "text/plain": [
       "   BOND_pct   BAA_pct  DJIA_pct    PI_pct  RGDP_pct  BOND_pct   BAA_pct  \\\n",
       "3 -0.054160 -0.026458 -0.105591  0.036044  0.006229 -0.047696 -0.046418   \n",
       "4 -0.094597 -0.078364 -0.125661 -0.006516 -0.002852 -0.054160 -0.026458   \n",
       "5  0.045995  0.022044  0.071511 -0.006502  0.005846 -0.094597 -0.078364   \n",
       "6 -0.053071 -0.035014 -0.161671  0.011427 -0.004150  0.045995  0.022044   \n",
       "7 -0.046837 -0.015239  0.119705 -0.033066  0.002724 -0.053071 -0.035014   \n",
       "\n",
       "   DJIA_pct    PI_pct  RGDP_pct  BOND_L2_pct  BAA_L2_pct  DJIA_L2_pct  \\\n",
       "3 -0.000380  0.105947  0.001336    -0.043754    0.021136    -0.047403   \n",
       "4 -0.105591  0.036044  0.006229    -0.047696   -0.046418    -0.000380   \n",
       "5 -0.125661 -0.006516 -0.002852    -0.054160   -0.026458    -0.105591   \n",
       "6  0.071511 -0.006502  0.005846    -0.094597   -0.078364    -0.125661   \n",
       "7 -0.161671  0.011427 -0.004150     0.045995    0.022044     0.071511   \n",
       "\n",
       "   PI_L2_pct  RGDP_L2_pct  \n",
       "3  -0.009908     0.018312  \n",
       "4   0.105947     0.001336  \n",
       "5   0.036044     0.006229  \n",
       "6  -0.006516    -0.002852  \n",
       "7  -0.006502     0.005846  "
      ]
     },
     "execution_count": 17,
     "metadata": {},
     "output_type": "execute_result"
    }
   ],
   "source": [
    "macrovar3.head(5)"
   ]
  },
  {
   "cell_type": "code",
   "execution_count": 18,
   "metadata": {},
   "outputs": [],
   "source": [
    "X_reduced = pd.DataFrame(X_reduced)"
   ]
  },
  {
   "cell_type": "code",
   "execution_count": 19,
   "metadata": {},
   "outputs": [
    {
     "data": {
      "text/html": [
       "<div>\n",
       "<style scoped>\n",
       "    .dataframe tbody tr th:only-of-type {\n",
       "        vertical-align: middle;\n",
       "    }\n",
       "\n",
       "    .dataframe tbody tr th {\n",
       "        vertical-align: top;\n",
       "    }\n",
       "\n",
       "    .dataframe thead th {\n",
       "        text-align: right;\n",
       "    }\n",
       "</style>\n",
       "<table border=\"1\" class=\"dataframe\">\n",
       "  <thead>\n",
       "    <tr style=\"text-align: right;\">\n",
       "      <th></th>\n",
       "      <th>0</th>\n",
       "      <th>1</th>\n",
       "      <th>2</th>\n",
       "      <th>3</th>\n",
       "      <th>4</th>\n",
       "    </tr>\n",
       "  </thead>\n",
       "  <tbody>\n",
       "    <tr>\n",
       "      <th>0</th>\n",
       "      <td>0.532723</td>\n",
       "      <td>-0.673896</td>\n",
       "      <td>-0.415962</td>\n",
       "      <td>-0.499231</td>\n",
       "      <td>-0.070619</td>\n",
       "    </tr>\n",
       "    <tr>\n",
       "      <th>1</th>\n",
       "      <td>0.106249</td>\n",
       "      <td>-1.696713</td>\n",
       "      <td>-0.918315</td>\n",
       "      <td>-0.408680</td>\n",
       "      <td>-0.496992</td>\n",
       "    </tr>\n",
       "    <tr>\n",
       "      <th>2</th>\n",
       "      <td>-0.722084</td>\n",
       "      <td>0.465289</td>\n",
       "      <td>0.343753</td>\n",
       "      <td>-0.910354</td>\n",
       "      <td>-0.406453</td>\n",
       "    </tr>\n",
       "    <tr>\n",
       "      <th>3</th>\n",
       "      <td>-0.487108</td>\n",
       "      <td>-2.063176</td>\n",
       "      <td>-0.462674</td>\n",
       "      <td>0.350106</td>\n",
       "      <td>-0.907868</td>\n",
       "    </tr>\n",
       "    <tr>\n",
       "      <th>4</th>\n",
       "      <td>-0.720557</td>\n",
       "      <td>0.479711</td>\n",
       "      <td>-0.313989</td>\n",
       "      <td>-0.455317</td>\n",
       "      <td>0.351845</td>\n",
       "    </tr>\n",
       "  </tbody>\n",
       "</table>\n",
       "</div>"
      ],
      "text/plain": [
       "          0         1         2         3         4\n",
       "0  0.532723 -0.673896 -0.415962 -0.499231 -0.070619\n",
       "1  0.106249 -1.696713 -0.918315 -0.408680 -0.496992\n",
       "2 -0.722084  0.465289  0.343753 -0.910354 -0.406453\n",
       "3 -0.487108 -2.063176 -0.462674  0.350106 -0.907868\n",
       "4 -0.720557  0.479711 -0.313989 -0.455317  0.351845"
      ]
     },
     "execution_count": 19,
     "metadata": {},
     "output_type": "execute_result"
    }
   ],
   "source": [
    "X_reduced.head(5)"
   ]
  },
  {
   "cell_type": "markdown",
   "metadata": {},
   "source": [
    "### Putting the two datasets above side by side, we can see that the values of each cluster is the combined effects from all the variables assigned to that cluster. If there is only one variables in that cluster, then the cluster value equals to the input macroeconomic variable value. "
   ]
  },
  {
   "cell_type": "markdown",
   "metadata": {},
   "source": [
    "## Method 2:  VarClusHi from PyPI. Developed to be the substitute for Proc Varclus in SAS"
   ]
  },
  {
   "cell_type": "code",
   "execution_count": 20,
   "metadata": {},
   "outputs": [],
   "source": [
    "from varclushi import VarClusHi"
   ]
  },
  {
   "cell_type": "code",
   "execution_count": 21,
   "metadata": {},
   "outputs": [],
   "source": [
    "macrovar5= pd.DataFrame(macrovar4)"
   ]
  },
  {
   "cell_type": "code",
   "execution_count": 22,
   "metadata": {},
   "outputs": [
    {
     "data": {
      "text/plain": [
       "(93, 15)"
      ]
     },
     "execution_count": 22,
     "metadata": {},
     "output_type": "execute_result"
    }
   ],
   "source": [
    "macrovar5.shape"
   ]
  },
  {
   "cell_type": "code",
   "execution_count": 23,
   "metadata": {},
   "outputs": [
    {
     "data": {
      "text/plain": [
       "Index(['BOND_pct', 'BAA_pct', 'DJIA_pct', 'PI_pct', 'RGDP_pct', 'BOND_pct',\n",
       "       'BAA_pct', 'DJIA_pct', 'PI_pct', 'RGDP_pct', 'BOND_L2_pct',\n",
       "       'BAA_L2_pct', 'DJIA_L2_pct', 'PI_L2_pct', 'RGDP_L2_pct'],\n",
       "      dtype='object')"
      ]
     },
     "execution_count": 23,
     "metadata": {},
     "output_type": "execute_result"
    }
   ],
   "source": [
    "macrovar3.columns"
   ]
  },
  {
   "cell_type": "code",
   "execution_count": 24,
   "metadata": {},
   "outputs": [
    {
     "data": {
      "text/plain": [
       "(93, 15)"
      ]
     },
     "execution_count": 24,
     "metadata": {},
     "output_type": "execute_result"
    }
   ],
   "source": [
    "macrovar5.shape"
   ]
  },
  {
   "cell_type": "code",
   "execution_count": 25,
   "metadata": {},
   "outputs": [
    {
     "data": {
      "text/plain": [
       "<varclushi.varclushi.VarClusHi at 0x2bc21736da0>"
      ]
     },
     "execution_count": 25,
     "metadata": {},
     "output_type": "execute_result"
    }
   ],
   "source": [
    "VC = VarClusHi(macrovar5,maxeigval2=1,maxclus=5)\n",
    "VC.varclus()"
   ]
  },
  {
   "cell_type": "code",
   "execution_count": 26,
   "metadata": {},
   "outputs": [
    {
     "data": {
      "text/html": [
       "<div>\n",
       "<style scoped>\n",
       "    .dataframe tbody tr th:only-of-type {\n",
       "        vertical-align: middle;\n",
       "    }\n",
       "\n",
       "    .dataframe tbody tr th {\n",
       "        vertical-align: top;\n",
       "    }\n",
       "\n",
       "    .dataframe thead th {\n",
       "        text-align: right;\n",
       "    }\n",
       "</style>\n",
       "<table border=\"1\" class=\"dataframe\">\n",
       "  <thead>\n",
       "    <tr style=\"text-align: right;\">\n",
       "      <th></th>\n",
       "      <th>Cluster</th>\n",
       "      <th>N_Vars</th>\n",
       "      <th>Eigval1</th>\n",
       "      <th>Eigval2</th>\n",
       "      <th>VarProp</th>\n",
       "    </tr>\n",
       "  </thead>\n",
       "  <tbody>\n",
       "    <tr>\n",
       "      <th>0</th>\n",
       "      <td>0</td>\n",
       "      <td>5</td>\n",
       "      <td>2.452375</td>\n",
       "      <td>0.928056</td>\n",
       "      <td>0.490475</td>\n",
       "    </tr>\n",
       "    <tr>\n",
       "      <th>1</th>\n",
       "      <td>1</td>\n",
       "      <td>4</td>\n",
       "      <td>1.804009</td>\n",
       "      <td>0.992024</td>\n",
       "      <td>0.451002</td>\n",
       "    </tr>\n",
       "    <tr>\n",
       "      <th>2</th>\n",
       "      <td>2</td>\n",
       "      <td>3</td>\n",
       "      <td>1.721946</td>\n",
       "      <td>0.919959</td>\n",
       "      <td>0.573982</td>\n",
       "    </tr>\n",
       "    <tr>\n",
       "      <th>3</th>\n",
       "      <td>3</td>\n",
       "      <td>3</td>\n",
       "      <td>1.374127</td>\n",
       "      <td>0.926001</td>\n",
       "      <td>0.458042</td>\n",
       "    </tr>\n",
       "  </tbody>\n",
       "</table>\n",
       "</div>"
      ],
      "text/plain": [
       "  Cluster N_Vars   Eigval1   Eigval2   VarProp\n",
       "0       0      5  2.452375  0.928056  0.490475\n",
       "1       1      4  1.804009  0.992024  0.451002\n",
       "2       2      3  1.721946  0.919959  0.573982\n",
       "3       3      3  1.374127  0.926001  0.458042"
      ]
     },
     "execution_count": 26,
     "metadata": {},
     "output_type": "execute_result"
    }
   ],
   "source": [
    "VC.info"
   ]
  },
  {
   "cell_type": "markdown",
   "metadata": {},
   "source": [
    "### Call rsquare, you can get the (1 - rsquare) ratio of each variable "
   ]
  },
  {
   "cell_type": "code",
   "execution_count": 27,
   "metadata": {},
   "outputs": [
    {
     "data": {
      "text/html": [
       "<div>\n",
       "<style scoped>\n",
       "    .dataframe tbody tr th:only-of-type {\n",
       "        vertical-align: middle;\n",
       "    }\n",
       "\n",
       "    .dataframe tbody tr th {\n",
       "        vertical-align: top;\n",
       "    }\n",
       "\n",
       "    .dataframe thead th {\n",
       "        text-align: right;\n",
       "    }\n",
       "</style>\n",
       "<table border=\"1\" class=\"dataframe\">\n",
       "  <thead>\n",
       "    <tr style=\"text-align: right;\">\n",
       "      <th></th>\n",
       "      <th>Cluster</th>\n",
       "      <th>Variable</th>\n",
       "      <th>RS_Own</th>\n",
       "      <th>RS_NC</th>\n",
       "      <th>RS_Ratio</th>\n",
       "    </tr>\n",
       "  </thead>\n",
       "  <tbody>\n",
       "    <tr>\n",
       "      <th>0</th>\n",
       "      <td>0.0</td>\n",
       "      <td>3.0</td>\n",
       "      <td>0.602211</td>\n",
       "      <td>0.035230</td>\n",
       "      <td>0.412315</td>\n",
       "    </tr>\n",
       "    <tr>\n",
       "      <th>1</th>\n",
       "      <td>0.0</td>\n",
       "      <td>8.0</td>\n",
       "      <td>0.565818</td>\n",
       "      <td>0.004236</td>\n",
       "      <td>0.436030</td>\n",
       "    </tr>\n",
       "    <tr>\n",
       "      <th>2</th>\n",
       "      <td>0.0</td>\n",
       "      <td>9.0</td>\n",
       "      <td>0.384610</td>\n",
       "      <td>0.124141</td>\n",
       "      <td>0.702613</td>\n",
       "    </tr>\n",
       "    <tr>\n",
       "      <th>3</th>\n",
       "      <td>0.0</td>\n",
       "      <td>13.0</td>\n",
       "      <td>0.279898</td>\n",
       "      <td>0.000173</td>\n",
       "      <td>0.720227</td>\n",
       "    </tr>\n",
       "    <tr>\n",
       "      <th>4</th>\n",
       "      <td>0.0</td>\n",
       "      <td>14.0</td>\n",
       "      <td>0.619840</td>\n",
       "      <td>0.109525</td>\n",
       "      <td>0.426918</td>\n",
       "    </tr>\n",
       "    <tr>\n",
       "      <th>5</th>\n",
       "      <td>1.0</td>\n",
       "      <td>0.0</td>\n",
       "      <td>0.381109</td>\n",
       "      <td>0.113412</td>\n",
       "      <td>0.698059</td>\n",
       "    </tr>\n",
       "    <tr>\n",
       "      <th>6</th>\n",
       "      <td>1.0</td>\n",
       "      <td>2.0</td>\n",
       "      <td>0.484587</td>\n",
       "      <td>0.021985</td>\n",
       "      <td>0.526999</td>\n",
       "    </tr>\n",
       "    <tr>\n",
       "      <th>7</th>\n",
       "      <td>1.0</td>\n",
       "      <td>4.0</td>\n",
       "      <td>0.615697</td>\n",
       "      <td>0.121006</td>\n",
       "      <td>0.437208</td>\n",
       "    </tr>\n",
       "    <tr>\n",
       "      <th>8</th>\n",
       "      <td>1.0</td>\n",
       "      <td>7.0</td>\n",
       "      <td>0.322615</td>\n",
       "      <td>0.029322</td>\n",
       "      <td>0.697846</td>\n",
       "    </tr>\n",
       "    <tr>\n",
       "      <th>9</th>\n",
       "      <td>2.0</td>\n",
       "      <td>10.0</td>\n",
       "      <td>0.768862</td>\n",
       "      <td>0.052971</td>\n",
       "      <td>0.244066</td>\n",
       "    </tr>\n",
       "    <tr>\n",
       "      <th>10</th>\n",
       "      <td>2.0</td>\n",
       "      <td>11.0</td>\n",
       "      <td>0.780439</td>\n",
       "      <td>0.054145</td>\n",
       "      <td>0.232129</td>\n",
       "    </tr>\n",
       "    <tr>\n",
       "      <th>11</th>\n",
       "      <td>2.0</td>\n",
       "      <td>6.0</td>\n",
       "      <td>0.172644</td>\n",
       "      <td>0.182307</td>\n",
       "      <td>1.011818</td>\n",
       "    </tr>\n",
       "    <tr>\n",
       "      <th>12</th>\n",
       "      <td>3.0</td>\n",
       "      <td>1.0</td>\n",
       "      <td>0.251332</td>\n",
       "      <td>0.025418</td>\n",
       "      <td>0.768194</td>\n",
       "    </tr>\n",
       "    <tr>\n",
       "      <th>13</th>\n",
       "      <td>3.0</td>\n",
       "      <td>5.0</td>\n",
       "      <td>0.599284</td>\n",
       "      <td>0.072655</td>\n",
       "      <td>0.432111</td>\n",
       "    </tr>\n",
       "    <tr>\n",
       "      <th>14</th>\n",
       "      <td>3.0</td>\n",
       "      <td>12.0</td>\n",
       "      <td>0.523511</td>\n",
       "      <td>0.111269</td>\n",
       "      <td>0.536145</td>\n",
       "    </tr>\n",
       "  </tbody>\n",
       "</table>\n",
       "</div>"
      ],
      "text/plain": [
       "    Cluster  Variable    RS_Own     RS_NC  RS_Ratio\n",
       "0       0.0       3.0  0.602211  0.035230  0.412315\n",
       "1       0.0       8.0  0.565818  0.004236  0.436030\n",
       "2       0.0       9.0  0.384610  0.124141  0.702613\n",
       "3       0.0      13.0  0.279898  0.000173  0.720227\n",
       "4       0.0      14.0  0.619840  0.109525  0.426918\n",
       "5       1.0       0.0  0.381109  0.113412  0.698059\n",
       "6       1.0       2.0  0.484587  0.021985  0.526999\n",
       "7       1.0       4.0  0.615697  0.121006  0.437208\n",
       "8       1.0       7.0  0.322615  0.029322  0.697846\n",
       "9       2.0      10.0  0.768862  0.052971  0.244066\n",
       "10      2.0      11.0  0.780439  0.054145  0.232129\n",
       "11      2.0       6.0  0.172644  0.182307  1.011818\n",
       "12      3.0       1.0  0.251332  0.025418  0.768194\n",
       "13      3.0       5.0  0.599284  0.072655  0.432111\n",
       "14      3.0      12.0  0.523511  0.111269  0.536145"
      ]
     },
     "execution_count": 27,
     "metadata": {},
     "output_type": "execute_result"
    }
   ],
   "source": [
    "VC.rsquare"
   ]
  },
  {
   "cell_type": "markdown",
   "metadata": {},
   "source": [
    "### RS_Own is R-square value of each variable with its own cluster and RS_NC is the R-square value with its nearest cluster. The R-square value for a variable with the nearest cluster should be low if the clusters are well separated. The last column displays the ratio of (1-RS_Own)/(1-RS_NC) for each variable. Small values of this ratio indicate good clustering."
   ]
  }
 ],
 "metadata": {
  "kernelspec": {
   "display_name": "Python 3",
   "language": "python",
   "name": "python3"
  },
  "language_info": {
   "codemirror_mode": {
    "name": "ipython",
    "version": 3
   },
   "file_extension": ".py",
   "mimetype": "text/x-python",
   "name": "python",
   "nbconvert_exporter": "python",
   "pygments_lexer": "ipython3",
   "version": "3.7.1"
  }
 },
 "nbformat": 4,
 "nbformat_minor": 2
}
